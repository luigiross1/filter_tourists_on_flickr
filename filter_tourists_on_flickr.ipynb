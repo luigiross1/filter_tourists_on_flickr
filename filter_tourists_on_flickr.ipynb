{
 "cells": [
  {
   "cell_type": "code",
   "execution_count": 1,
   "metadata": {
    "collapsed": true
   },
   "outputs": [],
   "source": [
    "import pandas as pd"
   ]
  },
  {
   "cell_type": "code",
   "execution_count": 2,
   "metadata": {
    "collapsed": false
   },
   "outputs": [],
   "source": [
    "data = pd.read_csv('nyc2009.csv')"
   ]
  },
  {
   "cell_type": "code",
   "execution_count": 3,
   "metadata": {
    "collapsed": false
   },
   "outputs": [],
   "source": [
    "#label pictures by month\n",
    "data['date_taken']=pd.to_datetime(data['date_taken'])\n",
    "month=[]\n",
    "for i in range(len(data)):\n",
    "    month.append(data.date_taken[i].month)\n",
    "data['month']=month"
   ]
  },
  {
   "cell_type": "code",
   "execution_count": 4,
   "metadata": {
    "collapsed": false
   },
   "outputs": [],
   "source": [
    "#classify Flickr users by month\n",
    "string='user'\n",
    "user=[]\n",
    "for i in range(0,12):\n",
    "    user.append(string+`i+1`)\n",
    "    month=data.loc[data.month==i+1]\n",
    "    user[i]=list(month.user_nickname.unique())"
   ]
  },
  {
   "cell_type": "code",
   "execution_count": 5,
   "metadata": {
    "collapsed": false
   },
   "outputs": [],
   "source": [
    "#find users who have uploaded pictures in more than a month. Make comparisons between the lists set up above.\n",
    "merge=[[]]\n",
    "string='merge'\n",
    "for i in range(0,10):    \n",
    "    for j in range(i+2,12):    \n",
    "        #the matrix is symmetrical. Comparisons between adjacent months are excluded since a tourist could visit over two months\n",
    "        merge.append(list(set(user[i])&set(user[j])))"
   ]
  },
  {
   "cell_type": "code",
   "execution_count": 6,
   "metadata": {
    "collapsed": false
   },
   "outputs": [],
   "source": [
    "#label these users as local residents\n",
    "local=list(set().union(merge[0],merge[1]))\n",
    "for i in range(len(merge)):\n",
    "    local=list(set().union(local,merge[i]))"
   ]
  },
  {
   "cell_type": "code",
   "execution_count": 7,
   "metadata": {
    "collapsed": false
   },
   "outputs": [],
   "source": [
    "#filter pictures shot by local residents and tourists\n",
    "pics_local=data[data['user_nickname'].isin(local)]\n",
    "pics_tourist=data[~data['user_nickname'].isin(local)]"
   ]
  },
  {
   "cell_type": "code",
   "execution_count": null,
   "metadata": {
    "collapsed": true
   },
   "outputs": [],
   "source": []
  }
 ],
 "metadata": {
  "kernelspec": {
   "display_name": "Python 2",
   "language": "python",
   "name": "python2"
  },
  "language_info": {
   "codemirror_mode": {
    "name": "ipython",
    "version": 2
   },
   "file_extension": ".py",
   "mimetype": "text/x-python",
   "name": "python",
   "nbconvert_exporter": "python",
   "pygments_lexer": "ipython2",
   "version": "2.7.11"
  }
 },
 "nbformat": 4,
 "nbformat_minor": 0
}
